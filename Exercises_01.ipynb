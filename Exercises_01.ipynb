{
 "cells": [
  {
   "metadata": {},
   "cell_type": "markdown",
   "source": "# Michele Banfi 869294",
   "id": "696aaa9cd2db77d4"
  },
  {
   "metadata": {},
   "cell_type": "markdown",
   "source": "The exercise consists of a quantum circuit in which is present a \"black box\"; the black box apply some CNOTs, the target of the black box is an ancilla qubit. The aim of the exercise is guess which are the qubit acting as the controller qubit inside CNOTs.",
   "id": "77994cfe3230aee2"
  },
  {
   "metadata": {
    "ExecuteTime": {
     "end_time": "2024-10-26T13:42:33.332375Z",
     "start_time": "2024-10-26T13:42:31.145547Z"
    }
   },
   "cell_type": "code",
   "source": [
    "# import libraries\n",
    "from qiskit import QuantumCircuit\n",
    "from qiskit.primitives import StatevectorSampler as Sampler\n",
    "import numpy as np"
   ],
   "id": "a8ae9c649b7669dd",
   "outputs": [],
   "execution_count": 1
  },
  {
   "metadata": {},
   "cell_type": "markdown",
   "source": "A black box function is used. Randomly, it applies some CNOTs with the ancilla as the target qubit.",
   "id": "60eb7e654975a14d"
  },
  {
   "metadata": {
    "ExecuteTime": {
     "end_time": "2024-10-26T13:53:38.926230Z",
     "start_time": "2024-10-26T13:53:38.922064Z"
    }
   },
   "cell_type": "code",
   "source": [
    "# black box\n",
    "def blackBox():\n",
    "    # save the indices:\n",
    "    indices = []\n",
    "    for i in range(4):\n",
    "        random = np.random.randint(2)\n",
    "        if random == 1:\n",
    "            indices.append(i)\n",
    "    \n",
    "    return indices"
   ],
   "id": "16de17a159d38d3e",
   "outputs": [],
   "execution_count": 22
  },
  {
   "metadata": {},
   "cell_type": "markdown",
   "source": "A classical approach and a quantum approach are used to solve the exercise.",
   "id": "83d860583dcc184d"
  },
  {
   "metadata": {},
   "cell_type": "markdown",
   "source": "# Classical",
   "id": "b62f3997b2b20de"
  },
  {
   "metadata": {},
   "cell_type": "markdown",
   "source": "For the classical approach, first compute the permutations (with only one qubit = 1 at a time), cycle trhough all of them; then observe the outputs of the ancilla throughout the permutations to guess which qubits are controlling CNOTs.",
   "id": "1ed320be06a0cc82"
  },
  {
   "metadata": {
    "ExecuteTime": {
     "end_time": "2024-10-26T13:53:40.366967Z",
     "start_time": "2024-10-26T13:53:40.362242Z"
    }
   },
   "cell_type": "code",
   "source": [
    "permutations = []\n",
    "\n",
    "# calculate the permutations of the inputs except the last qubit\n",
    "for i in range(4):\n",
    "    configuration = []\n",
    "    for j in range(4):\n",
    "        if i != j:\n",
    "            configuration.append(0)\n",
    "        else:\n",
    "            configuration.append(1)\n",
    "    permutations.append(configuration)\n",
    "\n",
    "print(permutations)"
   ],
   "id": "9d8be33235ce9c5e",
   "outputs": [
    {
     "name": "stdout",
     "output_type": "stream",
     "text": [
      "[[1, 0, 0, 0], [0, 1, 0, 0], [0, 0, 1, 0], [0, 0, 0, 1]]\n"
     ]
    }
   ],
   "execution_count": 23
  },
  {
   "metadata": {
    "ExecuteTime": {
     "end_time": "2024-10-26T13:53:41.550422Z",
     "start_time": "2024-10-26T13:53:41.527336Z"
    }
   },
   "cell_type": "code",
   "source": [
    "# save the results to inspect them afterward\n",
    "results = []\n",
    "indices = blackBox()\n",
    "\n",
    "# cycle through the permutations\n",
    "for i in range(len(permutations)):\n",
    "    \n",
    "    classical_input = permutations[i]\n",
    "    \n",
    "    qc = QuantumCircuit(5)\n",
    "    \n",
    "    # encode the state\n",
    "    for i, val in enumerate(classical_input):\n",
    "        if val == 1:\n",
    "            qc.x(i)\n",
    "    \n",
    "    # black box\n",
    "    for i in indices:\n",
    "        qc.cx(i, 4)\n",
    "    \n",
    "    # measure the circuit\n",
    "    qc.measure_all()\n",
    "    \n",
    "    # run the circuit\n",
    "    result = Sampler().run([qc], shots=100).result()[0]\n",
    "    co = result.data.meas.get_counts()\n",
    "\n",
    "    # save the results to inspect them later\n",
    "    results.append(co)\n"
   ],
   "id": "f346356eeca8fd5f",
   "outputs": [],
   "execution_count": 24
  },
  {
   "metadata": {
    "ExecuteTime": {
     "end_time": "2024-10-26T13:53:46.022456Z",
     "start_time": "2024-10-26T13:53:46.015749Z"
    }
   },
   "cell_type": "code",
   "source": [
    "# print the circuit to showcase how it works\n",
    "print(qc)"
   ],
   "id": "cedc2efa7fd61def",
   "outputs": [
    {
     "name": "stdout",
     "output_type": "stream",
     "text": [
      "                        ░ ┌─┐            \n",
      "   q_0: ───────■────────░─┤M├────────────\n",
      "               │        ░ └╥┘┌─┐         \n",
      "   q_1: ───────┼────────░──╫─┤M├─────────\n",
      "               │        ░  ║ └╥┘┌─┐      \n",
      "   q_2: ───────┼────────░──╫──╫─┤M├──────\n",
      "        ┌───┐  │        ░  ║  ║ └╥┘┌─┐   \n",
      "   q_3: ┤ X ├──┼────■───░──╫──╫──╫─┤M├───\n",
      "        └───┘┌─┴─┐┌─┴─┐ ░  ║  ║  ║ └╥┘┌─┐\n",
      "   q_4: ─────┤ X ├┤ X ├─░──╫──╫──╫──╫─┤M├\n",
      "             └───┘└───┘ ░  ║  ║  ║  ║ └╥┘\n",
      "meas: 5/═══════════════════╩══╩══╩══╩══╩═\n",
      "                           0  1  2  3  4 \n"
     ]
    }
   ],
   "execution_count": 26
  },
  {
   "metadata": {
    "ExecuteTime": {
     "end_time": "2024-10-26T13:53:43.773707Z",
     "start_time": "2024-10-26T13:53:43.768234Z"
    }
   },
   "cell_type": "code",
   "source": [
    "# cycle through the results \n",
    "for i in range(len(results)):\n",
    "    result = list(results[i].keys())[0]\n",
    "    \n",
    "    # check that the string at position 0 is 1, which is the ancilla; meaning that there was a CNOT using the qubit as a control over the ancilla\n",
    "    if result[0] == '1':\n",
    "        print(f\"The circuit had a CNOT at position {i}\")"
   ],
   "id": "e464b1fb6fb6314",
   "outputs": [
    {
     "name": "stdout",
     "output_type": "stream",
     "text": [
      "The circuit had a CNOT at position 0\n",
      "The circuit had a CNOT at position 3\n"
     ]
    }
   ],
   "execution_count": 25
  },
  {
   "metadata": {},
   "cell_type": "markdown",
   "source": "# Quantum",
   "id": "558c34cafd3bd255"
  },
  {
   "metadata": {},
   "cell_type": "markdown",
   "source": "Now the quantum version",
   "id": "4192b5b0e0214443"
  },
  {
   "metadata": {
    "ExecuteTime": {
     "end_time": "2024-10-26T13:54:25.360596Z",
     "start_time": "2024-10-26T13:54:25.349877Z"
    }
   },
   "cell_type": "code",
   "source": [
    "# initialize the circuit\n",
    "qc = QuantumCircuit(5)\n",
    "\n",
    "# put the ancilla in state |1> that will become |-> after the Hadamard\n",
    "qc.x(4)\n",
    "\n",
    "# prepare the state |+>\n",
    "for i in range(5):\n",
    "    qc.h(i)\n",
    "\n",
    "# black box\n",
    "indices = blackBox()\n",
    "for i in indices:\n",
    "    qc.cx(i, 4)\n",
    "\n",
    "# put back in computational basis\n",
    "for i in range(5):\n",
    "    qc.h(i)\n",
    "    \n",
    "# put back the ancilla in state |0>\n",
    "qc.x(4)\n",
    "\n",
    "qc.measure_all()\n",
    "\n",
    "print(qc)"
   ],
   "id": "9010fd53146e63d9",
   "outputs": [
    {
     "name": "stdout",
     "output_type": "stream",
     "text": [
      "        ┌───┐          ┌───┐           ░ ┌─┐            \n",
      "   q_0: ┤ H ├───────■──┤ H ├───────────░─┤M├────────────\n",
      "        ├───┤┌───┐  │  └───┘           ░ └╥┘┌─┐         \n",
      "   q_1: ┤ H ├┤ H ├──┼──────────────────░──╫─┤M├─────────\n",
      "        ├───┤├───┤  │                  ░  ║ └╥┘┌─┐      \n",
      "   q_2: ┤ H ├┤ H ├──┼──────────────────░──╫──╫─┤M├──────\n",
      "        ├───┤└───┘  │       ┌───┐      ░  ║  ║ └╥┘┌─┐   \n",
      "   q_3: ┤ H ├───────┼────■──┤ H ├──────░──╫──╫──╫─┤M├───\n",
      "        ├───┤┌───┐┌─┴─┐┌─┴─┐├───┤┌───┐ ░  ║  ║  ║ └╥┘┌─┐\n",
      "   q_4: ┤ X ├┤ H ├┤ X ├┤ X ├┤ H ├┤ X ├─░──╫──╫──╫──╫─┤M├\n",
      "        └───┘└───┘└───┘└───┘└───┘└───┘ ░  ║  ║  ║  ║ └╥┘\n",
      "meas: 5/══════════════════════════════════╩══╩══╩══╩══╩═\n",
      "                                          0  1  2  3  4 \n"
     ]
    }
   ],
   "execution_count": 27
  },
  {
   "metadata": {
    "ExecuteTime": {
     "end_time": "2024-10-26T13:54:27.871664Z",
     "start_time": "2024-10-26T13:54:27.861686Z"
    }
   },
   "cell_type": "code",
   "source": [
    "result = Sampler().run([qc], shots=10).result()[0] #note the [0]\n",
    "co = result.data.meas.get_counts()\n",
    "\n",
    "# take the result key \n",
    "result = list(co.keys())[0]\n",
    "\n",
    "for i in range (len(result)):\n",
    "    if result[4-i] == '1':\n",
    "        print(f\"The circuit had a CNOT at position {i}\")"
   ],
   "id": "c7e79f49dc126702",
   "outputs": [
    {
     "name": "stdout",
     "output_type": "stream",
     "text": [
      "The circuit had a CNOT at position 0\n",
      "The circuit had a CNOT at position 3\n"
     ]
    }
   ],
   "execution_count": 28
  }
 ],
 "metadata": {
  "kernelspec": {
   "display_name": "Python 3",
   "language": "python",
   "name": "python3"
  },
  "language_info": {
   "codemirror_mode": {
    "name": "ipython",
    "version": 2
   },
   "file_extension": ".py",
   "mimetype": "text/x-python",
   "name": "python",
   "nbconvert_exporter": "python",
   "pygments_lexer": "ipython2",
   "version": "2.7.6"
  }
 },
 "nbformat": 4,
 "nbformat_minor": 5
}
