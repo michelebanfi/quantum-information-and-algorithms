{
 "cells": [
  {
   "metadata": {},
   "cell_type": "markdown",
   "source": "# Michele Banfi 869294",
   "id": "1b94f07dff94c5d1"
  },
  {
   "metadata": {},
   "cell_type": "markdown",
   "source": "This exercise consists in implementing a quantum circuit that sums two positives numbers $n_1$ and $n_2$ in a quantum computer. The circuit will sum the number on the qubits representing the first number. So for example $a$ and $b$ will output $a+b$ and $b$ will be left unchanged. The circuit will be implemented in Qiskit. ",
   "id": "d19a5fcb39cffd2e"
  },
  {
   "cell_type": "code",
   "id": "initial_id",
   "metadata": {
    "collapsed": true,
    "ExecuteTime": {
     "end_time": "2024-11-17T16:44:58.580449Z",
     "start_time": "2024-11-17T16:44:58.576752Z"
    }
   },
   "source": [
    "# import libraries\n",
    "from qiskit import QuantumCircuit\n",
    "from qiskit.primitives import StatevectorSampler as Sampler\n",
    "import numpy as np"
   ],
   "outputs": [],
   "execution_count": 460
  },
  {
   "metadata": {
    "ExecuteTime": {
     "end_time": "2024-11-17T16:50:59.568292Z",
     "start_time": "2024-11-17T16:50:59.564632Z"
    }
   },
   "cell_type": "code",
   "source": [
    "# define the numbers to be summed in decimal notation\n",
    "n1 = 7\n",
    "n2 = 7\n",
    "\n",
    "# be aware that the summation will be cyclic, so the result will be the sum modulo <number_of_bits>"
   ],
   "id": "6ecd1e60a22f85ef",
   "outputs": [],
   "execution_count": 477
  },
  {
   "metadata": {
    "ExecuteTime": {
     "end_time": "2024-11-17T16:50:59.796918Z",
     "start_time": "2024-11-17T16:50:59.789920Z"
    }
   },
   "cell_type": "code",
   "source": [
    "# encode n1 and n2 in binary\n",
    "n1_bin = np.binary_repr(n1)\n",
    "n2_bin = np.binary_repr(n2)\n",
    "\n",
    "print(f\"Binary representation of {n1} is: {n1_bin}\")\n",
    "print(f\"Binary representation of {n2} is: {n2_bin}\")"
   ],
   "id": "a7c946d2ee121083",
   "outputs": [
    {
     "name": "stdout",
     "output_type": "stream",
     "text": [
      "Binary representation of 7 is: 111\n",
      "Binary representation of 7 is: 111\n"
     ]
    }
   ],
   "execution_count": 478
  },
  {
   "metadata": {
    "ExecuteTime": {
     "end_time": "2024-11-17T16:51:00.127929Z",
     "start_time": "2024-11-17T16:51:00.122479Z"
    }
   },
   "cell_type": "code",
   "source": [
    "# the two numbers must have the same length, so we add zeros to the left of the shorter number, to match the length of the longer number\n",
    "if len(n1_bin) > len(n2_bin):\n",
    "    n2_bin = '0'*(len(n1_bin) - len(n2_bin)) + n2_bin\n",
    "else:\n",
    "    n1_bin = '0'*(len(n2_bin) - len(n1_bin)) + n1_bin\n",
    "    \n",
    "# save for later the dimension of the binary representation\n",
    "n_dim = len(n1_bin)\n",
    "\n",
    "print(f\"Normalized - Binary representation of {n1} is: {n1_bin}\")\n",
    "print(f\"Normalized - Binary representation of {n2} is: {n2_bin}\")"
   ],
   "id": "71a7d7ed0ba2c02b",
   "outputs": [
    {
     "name": "stdout",
     "output_type": "stream",
     "text": [
      "Normalized - Binary representation of 7 is: 111\n",
      "Normalized - Binary representation of 7 is: 111\n"
     ]
    }
   ],
   "execution_count": 479
  },
  {
   "metadata": {
    "ExecuteTime": {
     "end_time": "2024-11-17T16:51:00.419090Z",
     "start_time": "2024-11-17T16:51:00.411627Z"
    }
   },
   "cell_type": "code",
   "source": [
    "# we need double the number of qubits to represent the sum of the two numbers\n",
    "circuit_qubits = n_dim * 2\n",
    "qc = QuantumCircuit(circuit_qubits, n_dim)\n",
    "\n",
    "# we need to encode the binary numbers in the qubits, we apply a cnot gate to each qubit that is 1\n",
    "# initialize the first n qubits with n1 and the last n qubits with n2.\n",
    "# the notation is a little bit misleading, image 3 bit, so:\n",
    "# - len(n1_bin) = 3\n",
    "# - len(n2_bin) = 3\n",
    "# We need to correctly iterate with the indeces so the from the end to the start of the array. But remember that the indeces of an array are 0-based.\n",
    "for i in range(n_dim):\n",
    "    if n1_bin[n_dim - 1 -i] == '1':\n",
    "        qc.x(i)\n",
    "    if n2_bin[n_dim - 1 -i] == '1':\n",
    "        qc.x(i + n_dim)\n",
    "\n",
    "# logic barrier to better visualize later the circuit\n",
    "qc.barrier()"
   ],
   "id": "40ef655570a2acde",
   "outputs": [
    {
     "data": {
      "text/plain": [
       "CircuitInstruction(operation=Instruction(name='barrier', num_qubits=6, num_clbits=0, params=[]), qubits=(Qubit(QuantumRegister(6, 'q'), 0), Qubit(QuantumRegister(6, 'q'), 1), Qubit(QuantumRegister(6, 'q'), 2), Qubit(QuantumRegister(6, 'q'), 3), Qubit(QuantumRegister(6, 'q'), 4), Qubit(QuantumRegister(6, 'q'), 5)), clbits=())"
      ]
     },
     "execution_count": 480,
     "metadata": {},
     "output_type": "execute_result"
    }
   ],
   "execution_count": 480
  },
  {
   "metadata": {},
   "cell_type": "markdown",
   "source": "Now the concept is that each qubit of the second number controls a series of cnot gates, which can be controlled also by other qubits. The least significant bit will affect all the others, and the most significant bit will affect only the least significant bit.",
   "id": "e5ecb4a1816762ea"
  },
  {
   "metadata": {
    "ExecuteTime": {
     "end_time": "2024-11-17T16:51:01.094438Z",
     "start_time": "2024-11-17T16:51:01.087310Z"
    }
   },
   "cell_type": "code",
   "source": [
    "# the process of applying the cnot gates can be generalized in a function to recycle the code\n",
    "# for each of the bits of the second number, which are here defined as control, we apply the circuit\n",
    "def apply_cnots(qc, control):\n",
    "    \n",
    "    # the iteration starts from the control till the most significant bit\n",
    "    counter = 0\n",
    "    for i in range(control, n_dim):\n",
    "        # create an array of qubits controlling the cnot gate. Which in this case are:\n",
    "        # - the n_qubit of the second number \n",
    "        # - all the qubits of the first number from the control to the most significant bit\n",
    "        control_qubits = [control + n_dim] + list(range(control, n_dim - counter - 1))\n",
    "        if (n_dim - counter - 1) in control_qubits:\n",
    "            control_qubits.remove(n_dim - counter - 1)\n",
    "            \n",
    "        qc.mcx(control_qubits, n_dim - counter - 1)\n",
    "        counter += 1\n",
    "        \n",
    "    qc.barrier()"
   ],
   "id": "21c86c23ce35aa3f",
   "outputs": [],
   "execution_count": 481
  },
  {
   "metadata": {
    "ExecuteTime": {
     "end_time": "2024-11-17T16:51:01.335443Z",
     "start_time": "2024-11-17T16:51:01.330186Z"
    }
   },
   "cell_type": "code",
   "source": [
    "# apply the cnot gates\n",
    "for i in range(n_dim):\n",
    "    apply_cnots(qc, i)"
   ],
   "id": "ce90f59ec2921fdd",
   "outputs": [],
   "execution_count": 482
  },
  {
   "metadata": {
    "ExecuteTime": {
     "end_time": "2024-11-17T16:51:01.748339Z",
     "start_time": "2024-11-17T16:51:01.741960Z"
    }
   },
   "cell_type": "code",
   "source": [
    "# measure the first n_dim qubits\n",
    "qc.measure(range(n_dim), range(n_dim))"
   ],
   "id": "f8c7cec0e8c08c21",
   "outputs": [
    {
     "data": {
      "text/plain": [
       "<qiskit.circuit.instructionset.InstructionSet at 0x1259e6fe0>"
      ]
     },
     "execution_count": 483,
     "metadata": {},
     "output_type": "execute_result"
    }
   ],
   "execution_count": 483
  },
  {
   "metadata": {
    "ExecuteTime": {
     "end_time": "2024-11-17T16:51:02.107877Z",
     "start_time": "2024-11-17T16:51:02.093956Z"
    }
   },
   "cell_type": "code",
   "source": [
    "# run the circuit\n",
    "result = Sampler().run([qc], shots=1).result()[0]\n",
    "quasi_dist = result.data.c.get_counts()\n",
    "\n",
    "# take the value of the dictionary\n",
    "for key in quasi_dist:\n",
    "    result = key\n",
    "    break\n",
    "    \n",
    "print(f\"Binary of the result: {result}\")\n",
    "\n",
    "# convert the result in decimal\n",
    "result = int(result, 2)\n",
    "print(f\"Decimal of the result: {result}\")"
   ],
   "id": "951ae9bfe77cb7a2",
   "outputs": [
    {
     "name": "stdout",
     "output_type": "stream",
     "text": [
      "Binary of the result: 110\n",
      "Decimal of the result: 6\n"
     ]
    }
   ],
   "execution_count": 484
  },
  {
   "metadata": {
    "ExecuteTime": {
     "end_time": "2024-11-17T16:51:05.324673Z",
     "start_time": "2024-11-17T16:51:05.314251Z"
    }
   },
   "cell_type": "code",
   "source": [
    "print(qc)\n",
    "# qc.draw(output='latex')"
   ],
   "id": "c1f38bf035b82565",
   "outputs": [
    {
     "name": "stdout",
     "output_type": "stream",
     "text": [
      "     ┌───┐ ░           ┌───┐ ░            ░       ░ ┌─┐      \n",
      "q_0: ┤ X ├─░───■────■──┤ X ├─░────────────░───────░─┤M├──────\n",
      "     ├───┤ ░   │  ┌─┴─┐└─┬─┘ ░      ┌───┐ ░       ░ └╥┘┌─┐   \n",
      "q_1: ┤ X ├─░───■──┤ X ├──┼───░───■──┤ X ├─░───────░──╫─┤M├───\n",
      "     ├───┤ ░ ┌─┴─┐└─┬─┘  │   ░ ┌─┴─┐└─┬─┘ ░ ┌───┐ ░  ║ └╥┘┌─┐\n",
      "q_2: ┤ X ├─░─┤ X ├──┼────┼───░─┤ X ├──┼───░─┤ X ├─░──╫──╫─┤M├\n",
      "     ├───┤ ░ └─┬─┘  │    │   ░ └─┬─┘  │   ░ └─┬─┘ ░  ║  ║ └╥┘\n",
      "q_3: ┤ X ├─░───■────■────■───░───┼────┼───░───┼───░──╫──╫──╫─\n",
      "     ├───┤ ░                 ░   │    │   ░   │   ░  ║  ║  ║ \n",
      "q_4: ┤ X ├─░─────────────────░───■────■───░───┼───░──╫──╫──╫─\n",
      "     ├───┤ ░                 ░            ░   │   ░  ║  ║  ║ \n",
      "q_5: ┤ X ├─░─────────────────░────────────░───■───░──╫──╫──╫─\n",
      "     └───┘ ░                 ░            ░       ░  ║  ║  ║ \n",
      "c: 3/════════════════════════════════════════════════╩══╩══╩═\n",
      "                                                     0  1  2 \n"
     ]
    }
   ],
   "execution_count": 485
  },
  {
   "metadata": {
    "ExecuteTime": {
     "end_time": "2024-11-17T16:51:05.945809Z",
     "start_time": "2024-11-17T16:51:05.942994Z"
    }
   },
   "cell_type": "code",
   "source": [
    "# assert that the result is correct in modulo 2**n_dim\n",
    "assert result == (n1 + n2) % 2**n_dim"
   ],
   "id": "e7140c4f460f158a",
   "outputs": [],
   "execution_count": 486
  },
  {
   "metadata": {},
   "cell_type": "code",
   "outputs": [],
   "execution_count": null,
   "source": "",
   "id": "d644ede89ebdf1b8"
  }
 ],
 "metadata": {
  "kernelspec": {
   "display_name": "Python 3",
   "language": "python",
   "name": "python3"
  },
  "language_info": {
   "codemirror_mode": {
    "name": "ipython",
    "version": 2
   },
   "file_extension": ".py",
   "mimetype": "text/x-python",
   "name": "python",
   "nbconvert_exporter": "python",
   "pygments_lexer": "ipython2",
   "version": "2.7.6"
  }
 },
 "nbformat": 4,
 "nbformat_minor": 5
}
